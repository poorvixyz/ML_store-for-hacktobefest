{
 "cells": [
  {
   "cell_type": "markdown",
   "metadata": {},
   "source": [
    "#  Binary Search "
   ]
  },
  {
   "cell_type": "code",
   "execution_count": 37,
   "metadata": {},
   "outputs": [],
   "source": [
    "# returns the index of the given element\n",
    "def binary_search(arr, x): \n",
    "    start = 0\n",
    "    end= len(arr) - 1\n",
    "    mid = 0\n",
    "  \n",
    "    while start <= end: \n",
    "  \n",
    "        mid = (start+end) // 2\n",
    "  \n",
    "        \n",
    "        if arr[mid] < x: \n",
    "            start = mid + 1\n",
    "  \n",
    "         \n",
    "        elif arr[mid] > x: \n",
    "            end = mid - 1\n",
    "  \n",
    "       \n",
    "        else: \n",
    "            return mid \n",
    "  \n",
    "    # element was not present \n",
    "    return -1\n",
    "  \n",
    "  \n",
    " \n",
    "arr = [ 2, 93, 4, 15, 40 ,567] \n",
    "x = 15\n",
    "  \n",
    "\n",
    "result = binary_search(arr, x) \n",
    "  "
   ]
  },
  {
   "cell_type": "code",
   "execution_count": 38,
   "metadata": {},
   "outputs": [
    {
     "data": {
      "text/plain": [
       "3"
      ]
     },
     "execution_count": 38,
     "metadata": {},
     "output_type": "execute_result"
    }
   ],
   "source": [
    "result"
   ]
  },
  {
   "cell_type": "code",
   "execution_count": null,
   "metadata": {},
   "outputs": [],
   "source": []
  }
 ],
 "metadata": {
  "kernelspec": {
   "display_name": "Python 3",
   "language": "python",
   "name": "python3"
  },
  "language_info": {
   "codemirror_mode": {
    "name": "ipython",
    "version": 3
   },
   "file_extension": ".py",
   "mimetype": "text/x-python",
   "name": "python",
   "nbconvert_exporter": "python",
   "pygments_lexer": "ipython3",
   "version": "3.7.6"
  }
 },
 "nbformat": 4,
 "nbformat_minor": 4
}
