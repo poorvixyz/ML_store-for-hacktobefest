{
 "cells": [
  {
   "cell_type": "code",
   "execution_count": 1,
   "metadata": {},
   "outputs": [],
   "source": [
    "#creating stack\n",
    "def create_stack():\n",
    "    stack=[]\n",
    "    return stack"
   ]
  },
  {
   "cell_type": "code",
   "execution_count": 2,
   "metadata": {},
   "outputs": [],
   "source": [
    "#checking empty stack\n",
    "def check_empty(stack):\n",
    "    return len(stack)==0"
   ]
  },
  {
   "cell_type": "code",
   "execution_count": 3,
   "metadata": {},
   "outputs": [],
   "source": [
    "#pushing an element \n",
    "def push(stack,item):\n",
    "    stack.append(item)\n",
    "    print(\"pushed item\"+ item)\n"
   ]
  },
  {
   "cell_type": "code",
   "execution_count": 5,
   "metadata": {},
   "outputs": [],
   "source": [
    "#removing an element\n",
    "def pop(stack):\n",
    "    if(check_empty(stack)):\n",
    "        return \"stack is empty\"\n",
    "    \n",
    "    return stack.pop()"
   ]
  },
  {
   "cell_type": "code",
   "execution_count": 6,
   "metadata": {},
   "outputs": [
    {
     "name": "stdout",
     "output_type": "stream",
     "text": [
      "pushed item1\n",
      "pushed item2\n",
      "pushed item3\n",
      "poped item is3\n",
      "stack after poping an element ['1', '2']\n"
     ]
    }
   ],
   "source": [
    "stack=create_stack()\n",
    "push(stack,str(1))\n",
    "push(stack,str(2))\n",
    "push(stack,str(3))\n",
    "print(\"poped item is\" +pop(stack))\n",
    "print(\"stack after poping an element \" +str(stack))"
   ]
  },
  {
   "cell_type": "code",
   "execution_count": null,
   "metadata": {},
   "outputs": [],
   "source": []
  }
 ],
 "metadata": {
  "kernelspec": {
   "display_name": "Python 3",
   "language": "python",
   "name": "python3"
  },
  "language_info": {
   "codemirror_mode": {
    "name": "ipython",
    "version": 3
   },
   "file_extension": ".py",
   "mimetype": "text/x-python",
   "name": "python",
   "nbconvert_exporter": "python",
   "pygments_lexer": "ipython3",
   "version": "3.7.6"
  }
 },
 "nbformat": 4,
 "nbformat_minor": 4
}
